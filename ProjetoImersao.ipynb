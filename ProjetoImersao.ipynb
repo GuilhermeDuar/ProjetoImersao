{
  "nbformat": 4,
  "nbformat_minor": 0,
  "metadata": {
    "colab": {
      "provenance": [],
      "authorship_tag": "ABX9TyOkQo5rWM+MG2XwY522wSxc",
      "include_colab_link": true
    },
    "kernelspec": {
      "name": "python3",
      "display_name": "Python 3"
    },
    "language_info": {
      "name": "python"
    }
  },
  "cells": [
    {
      "cell_type": "markdown",
      "metadata": {
        "id": "view-in-github",
        "colab_type": "text"
      },
      "source": [
        "<a href=\"https://colab.research.google.com/github/GuilhermeDuar/ProjetoImersao/blob/main/ProjetoImersao.ipynb\" target=\"_parent\"><img src=\"https://colab.research.google.com/assets/colab-badge.svg\" alt=\"Open In Colab\"/></a>"
      ]
    },
    {
      "cell_type": "markdown",
      "source": [
        "Baixando as dependências generativeai"
      ],
      "metadata": {
        "id": "0rR1tpe5H5f1"
      }
    },
    {
      "cell_type": "code",
      "execution_count": 47,
      "metadata": {
        "id": "qhy8P1Y-F3Xw"
      },
      "outputs": [],
      "source": [
        "!pip install -q -U google-generativeai"
      ]
    },
    {
      "cell_type": "markdown",
      "source": [
        "Configuração e criação do modelo generativo"
      ],
      "metadata": {
        "id": "D6vWZ246IHdw"
      }
    },
    {
      "cell_type": "code",
      "source": [
        "import hashlib\n",
        "import numpy as np\n",
        "import pandas as pd\n",
        "import google.generativeai as genai\n",
        "import json\n",
        "from types import SimpleNamespace\n",
        "from google.colab import userdata\n",
        "from pathlib import Path\n",
        "\n",
        "key = userdata.get('GOOGLE_API_KEY')\n",
        "genai.configure(api_key=key)\n",
        "\n",
        "# Config mais conservadora para evitar delírios.\n",
        "generation_config = {\n",
        "  \"temperature\": 0,\n",
        "  \"top_p\": 0.95,\n",
        "  \"top_k\": 0,\n",
        "}\n",
        "\n",
        "# Optei por remover as configuações de segurança por se tratar de um tema que envolve palavras \"fortes\".\n",
        "# Desta forma o modelo não terá problemas em transcrever os áudios.\n",
        "safety_settings = [\n",
        "  {\n",
        "    \"category\": \"HARM_CATEGORY_HARASSMENT\",\n",
        "    \"threshold\": \"BLOCK_NONE\"\n",
        "  },\n",
        "  {\n",
        "    \"category\": \"HARM_CATEGORY_HATE_SPEECH\",\n",
        "    \"threshold\": \"BLOCK_NONE\"\n",
        "  },\n",
        "  {\n",
        "    \"category\": \"HARM_CATEGORY_SEXUALLY_EXPLICIT\",\n",
        "    \"threshold\": \"BLOCK_NONE\"\n",
        "  },\n",
        "  {\n",
        "    \"category\": \"HARM_CATEGORY_DANGEROUS_CONTENT\",\n",
        "    \"threshold\": \"BLOCK_NONE\"\n",
        "  },\n",
        "]\n",
        "\n",
        "model = genai.GenerativeModel(model_name=\"gemini-1.5-pro-latest\",\n",
        "                              generation_config=generation_config,\n",
        "                              safety_settings=safety_settings)\n",
        "\n",
        "chat = model.start_chat(history=[\n",
        "    {\n",
        "      \"role\": \"user\",\n",
        "      \"parts\": [genai.upload_file(\"/content/Audios/Acidente.mp3\")]\n",
        "    }\n",
        "  ])"
      ],
      "metadata": {
        "id": "oQNqqzfKGLFn"
      },
      "execution_count": 102,
      "outputs": []
    },
    {
      "cell_type": "markdown",
      "source": [
        "Base de Dados representada por uma lista de dicinários. \\\n",
        "Em um cenário real, poderia ser substituído por uma consulta em tabelas que representem essa relação de Ferimentos e Exames"
      ],
      "metadata": {
        "id": "cqaTM3uBDl8l"
      }
    },
    {
      "cell_type": "code",
      "source": [
        "ferimentosExames = [{\n",
        "    \"Ferimento\": \"Traumatismo craniano\",\n",
        "    \"Exame\": \"Tomografia computadorizada (TC) da cabeça\"},\n",
        "     {\n",
        "    \"Ferimento\": \"Fratura óssea\",\n",
        "    \"Exame\": \"Raio-X\"},\n",
        "     {\n",
        "    \"Ferimento\": \"Lesão na coluna vertebral\",\n",
        "    \"Exame\": \"Ressonância Magnética (RM) da coluna\"},\n",
        "     {\n",
        "    \"Ferimento\": \"Lesão interna\",\n",
        "    \"Exame\": \"Ultrassonografia (FAST), TC do abdômen\"},\n",
        "     {\n",
        "    \"Ferimento\": \"Queimaduras\",\n",
        "    \"Exame\": \"Avaliação clínica, biópsia\"},\n",
        "     {\n",
        "    \"Ferimento\": \"Feridas abertas\",\n",
        "    \"Exame\": \"Avaliação clínica\"}]\n",
        "\n",
        "df = pd.DataFrame(ferimentosExames)\n",
        "df.columns = [\"Ferimentos\", \"Exames\"]"
      ],
      "metadata": {
        "id": "2exCEMxRn2JJ",
        "collapsed": true
      },
      "execution_count": 103,
      "outputs": []
    },
    {
      "cell_type": "markdown",
      "source": [
        "Criação de uma terceira coluna para realizar as comparações por embedding"
      ],
      "metadata": {
        "id": "pt17X5q2LF4A"
      }
    },
    {
      "cell_type": "code",
      "source": [
        "def embed(title, text):\n",
        "  return genai.embed_content(model=\"models/embedding-001\",content=text, title=title, task_type=\"RETRIEVAL_DOCUMENT\")[\"embedding\"]\n",
        "\n",
        "df[\"Embedding\"] = df.apply(lambda row: embed(row[\"Ferimentos\"], row[\"Exames\"]), axis = 1)"
      ],
      "metadata": {
        "id": "4MMNWKPQLFX2"
      },
      "execution_count": 104,
      "outputs": []
    },
    {
      "cell_type": "markdown",
      "source": [
        "Transcrição do contexto(áudio) e geração do Json"
      ],
      "metadata": {
        "id": "SJsL-ew3JGVs"
      }
    },
    {
      "cell_type": "code",
      "source": [
        "def gerarOcorrencia():\n",
        "  response = chat.send_message(\"\"\"Transcreva o audio em formato JSON, as chaves 'ResumoSituação', 'Ferimentos', 'TratamentosRealizados' e 'Exames'.\n",
        "                                            Resumo da situação deve ser breve. Traumas sofridos e Tratamentos realizados recebem um vetor.\n",
        "                                            Exames deve ser deixado em branco. Sem adicionar informações que não contenha no audio.\"\"\")\n",
        "\n",
        "  # Replace caso o modelo insira quebra de linha, espaços ou informações desnecessárias na response.text\n",
        "  return json.loads(response.text.replace(\"  \", \"\").replace(\"\\n\", \"\").replace(\"json\", \"\").replace(\"`\", \"\"))"
      ],
      "metadata": {
        "id": "3KsirAu0I14B"
      },
      "execution_count": 105,
      "outputs": []
    },
    {
      "cell_type": "markdown",
      "source": [
        "Função para identificar o melhor exame com base em um ferimento"
      ],
      "metadata": {
        "id": "tCQ-ZxNTLqWT"
      }
    },
    {
      "cell_type": "code",
      "source": [
        "def consultaExame(ferimento):\n",
        "  embeddingFerimento = genai.embed_content(model=\"models/embedding-001\",content=ferimento, task_type=\"RETRIEVAL_QUERY\")\n",
        "\n",
        "  escalar = np.dot(np.stack(df[\"Embedding\"]), embeddingFerimento[\"embedding\"])\n",
        "\n",
        "  return df.iloc[np.argmax(escalar)][\"Exames\"]"
      ],
      "metadata": {
        "id": "lDN9yQ_p5jds"
      },
      "execution_count": 106,
      "outputs": []
    },
    {
      "cell_type": "markdown",
      "source": [
        "Função para gerar a lista de exames\\\n",
        "Para cada ferimento será gerado um exame adequado, não será repetido exames."
      ],
      "metadata": {
        "id": "qDO-09dcM-yT"
      }
    },
    {
      "cell_type": "code",
      "source": [
        "def geraListaExames(listaFerimentos):\n",
        "  listaExames = []\n",
        "  for ferimento in listaFerimentos:\n",
        "    exame = consultaExame(ferimento)\n",
        "    if exame not in listaExames:\n",
        "      listaExames.append(exame)\n",
        "\n",
        "  return listaExames"
      ],
      "metadata": {
        "id": "MpetQNcy6E6I"
      },
      "execution_count": 107,
      "outputs": []
    },
    {
      "cell_type": "markdown",
      "source": [
        "Função principal da aplicação, ira retornar o relatório da ocorrencia em formato Json com base na gravação do atendimento."
      ],
      "metadata": {
        "id": "QhKkoKQjSirK"
      }
    },
    {
      "cell_type": "code",
      "source": [
        "def gerarRelatorioDeOcorrencia():\n",
        "  ocorrenciaJson = gerarOcorrencia()\n",
        "  listaExames = geraListaExames(ocorrenciaJson[\"Ferimentos\"])\n",
        "  prompt = f\"Complete a chave 'Exames' do seguinte JSON {ocorrenciaJson}, utilizando a lista  de exames {listaExames}.\"\n",
        "  return chat.send_message(prompt).text"
      ],
      "metadata": {
        "id": "xq0fm1cF8M6N"
      },
      "execution_count": 108,
      "outputs": []
    },
    {
      "cell_type": "markdown",
      "source": [
        "Executar programa!"
      ],
      "metadata": {
        "id": "D6AsJ-nbUt7d"
      }
    },
    {
      "cell_type": "code",
      "source": [
        "print(gerarRelatorioDeOcorrencia())"
      ],
      "metadata": {
        "colab": {
          "base_uri": "https://localhost:8080/",
          "height": 419
        },
        "id": "eD4nGnJxUpat",
        "outputId": "d7304216-fc5b-4a96-e855-1252afd1bdee"
      },
      "execution_count": 109,
      "outputs": [
        {
          "output_type": "stream",
          "name": "stdout",
          "text": [
            "```json\n",
            "{\n",
            "  \"ResumoSituação\": \"Paciente do sexo masculino, aproximadamente 40 anos, encontrado consciente, porém confuso e desorientado após colisão veicular em alta velocidade.\",\n",
            "  \"Ferimentos\": [\n",
            "    \"Dificuldade respiratória\",\n",
            "    \"Sinais de dor no peito\",\n",
            "    \"Ferida profunda na testa com sangramento ativo\",\n",
            "    \"Fratura exposta no braço direito\"\n",
            "  ],\n",
            "  \"TratamentosRealizados\": [\n",
            "    \"Pressão na ferida da testa para controlar o sangramento\",\n",
            "    \"Imobilização do braço fraturado\",\n",
            "    \"Administração de oxigênio para auxiliar na respiração\"\n",
            "  ],\n",
            "  \"Exames\": [\n",
            "    \"Avaliação clínica, biópsia\",\n",
            "    \"Ultrassonografia (FAST), TC do abdômen\",\n",
            "    \"Raio-X\"\n",
            "  ]\n",
            "}\n",
            "```\n",
            "\n"
          ]
        }
      ]
    }
  ]
}
